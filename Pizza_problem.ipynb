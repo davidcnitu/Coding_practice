{
 "cells": [
  {
   "cell_type": "code",
   "execution_count": 90,
   "metadata": {},
   "outputs": [],
   "source": [
    "import numpy \n",
    "import operator\n",
    "from collections import OrderedDict\n",
    "\n",
    "f = open('desktop\\example_data_1.txt', 'r')\n",
    "data = f.read()"
   ]
  },
  {
   "cell_type": "code",
   "execution_count": 10,
   "metadata": {},
   "outputs": [],
   "source": [
    "list = []\n",
    "list = data.split(\"\\n\")"
   ]
  },
  {
   "cell_type": "code",
   "execution_count": 130,
   "metadata": {},
   "outputs": [],
   "source": [
    "info = list[0].split(\" \")\n",
    "info.pop()\n",
    "info = [int(i) for i in info]\n",
    "pizza_no = info[0]\n",
    "teams = info[1:4]\n",
    "people = 2*teams[0] + 3*teams[1] + 4*teams[2]"
   ]
  },
  {
   "cell_type": "code",
   "execution_count": 77,
   "metadata": {},
   "outputs": [],
   "source": [
    "pizzas = list[1:]\n",
    "pizzas.pop()\n",
    "pizza_list = [pizzas[i].split(\" \") for i in range(len(pizzas))]\n",
    "pizza_list.sort(reverse = True)\n",
    "for i in pizza_list:\n",
    "    del i[0]\n",
    "ingredients = sum(pizza_list, [])"
   ]
  },
  {
   "cell_type": "code",
   "execution_count": 78,
   "metadata": {},
   "outputs": [
    {
     "data": {
      "text/plain": [
       "['tomato',\n",
       " 'mushroom',\n",
       " 'basil',\n",
       " 'onion',\n",
       " 'pepper',\n",
       " 'olive',\n",
       " 'mushroom',\n",
       " 'tomato',\n",
       " 'basil',\n",
       " 'chicken',\n",
       " 'mushroom',\n",
       " 'pepper',\n",
       " 'chicken',\n",
       " 'basil']"
      ]
     },
     "execution_count": 78,
     "metadata": {},
     "output_type": "execute_result"
    }
   ],
   "source": [
    "ingredients"
   ]
  },
  {
   "cell_type": "code",
   "execution_count": 83,
   "metadata": {},
   "outputs": [],
   "source": [
    "ingredients_table = {}\n",
    "for i in ingredients:\n",
    "    if i not in ingredients_table:\n",
    "        ingredients_table[i] = 1\n",
    "    else:\n",
    "        ingredients_table[i] += 1"
   ]
  },
  {
   "cell_type": "code",
   "execution_count": 132,
   "metadata": {},
   "outputs": [],
   "source": [
    "teams_2 = 0\n",
    "teams_3 = 0\n",
    "teams_4 = 0\n",
    "while pizza_no > 0:\n",
    "    if pizza_no%4 == 0 | pizza_no%4 == 2 | pizza_no%4 == 3:\n",
    "        pizza_no -= 4\n",
    "        teams_4 += 1\n",
    "    elif pizza_no%3 == 0 | pizza_no%3 == 2:\n",
    "        pizza_no -= 3\n",
    "        teams_3 += 1\n",
    "    else:\n",
    "        teams_2 = 1\n",
    "        pizza_no -= 2"
   ]
  },
  {
   "cell_type": "code",
   "execution_count": 138,
   "metadata": {},
   "outputs": [
    {
     "data": {
      "text/plain": [
       "1"
      ]
     },
     "execution_count": 138,
     "metadata": {},
     "output_type": "execute_result"
    }
   ],
   "source": [
    "a =3%2\n",
    "a"
   ]
  },
  {
   "cell_type": "code",
   "execution_count": null,
   "metadata": {},
   "outputs": [],
   "source": []
  }
 ],
 "metadata": {
  "kernelspec": {
   "display_name": "Python 3",
   "language": "python",
   "name": "python3"
  },
  "language_info": {
   "codemirror_mode": {
    "name": "ipython",
    "version": 3
   },
   "file_extension": ".py",
   "mimetype": "text/x-python",
   "name": "python",
   "nbconvert_exporter": "python",
   "pygments_lexer": "ipython3",
   "version": "3.8.3"
  }
 },
 "nbformat": 4,
 "nbformat_minor": 4
}
